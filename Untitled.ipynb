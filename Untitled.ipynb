{
 "cells": [
  {
   "cell_type": "code",
   "execution_count": 4,
   "metadata": {},
   "outputs": [],
   "source": [
    "deste = []"
   ]
  },
  {
   "cell_type": "code",
   "execution_count": 6,
   "metadata": {},
   "outputs": [],
   "source": [
    "for x in range (1,14):\n",
    "    deste.append(\"K\"+str(x))\n",
    "    deste.append(\"KA\"+str(x))\n",
    "    deste.append(\"M\"+str(x))\n",
    "    deste.append(\"S\"+str(x))\n",
    "    \n",
    "    "
   ]
  },
  {
   "cell_type": "code",
   "execution_count": 7,
   "metadata": {},
   "outputs": [
    {
     "data": {
      "text/plain": [
       "['K1',\n",
       " 'KA1',\n",
       " 'M1',\n",
       " 'S1',\n",
       " 'K2',\n",
       " 'KA2',\n",
       " 'M2',\n",
       " 'S2',\n",
       " 'K3',\n",
       " 'KA3',\n",
       " 'M3',\n",
       " 'S3',\n",
       " 'K4',\n",
       " 'KA4',\n",
       " 'M4',\n",
       " 'S4',\n",
       " 'K5',\n",
       " 'KA5',\n",
       " 'M5',\n",
       " 'S5',\n",
       " 'K6',\n",
       " 'KA6',\n",
       " 'M6',\n",
       " 'S6',\n",
       " 'K7',\n",
       " 'KA7',\n",
       " 'M7',\n",
       " 'S7',\n",
       " 'K8',\n",
       " 'KA8',\n",
       " 'M8',\n",
       " 'S8',\n",
       " 'K9',\n",
       " 'KA9',\n",
       " 'M9',\n",
       " 'S9',\n",
       " 'K10',\n",
       " 'KA10',\n",
       " 'M10',\n",
       " 'S10',\n",
       " 'K11',\n",
       " 'KA11',\n",
       " 'M11',\n",
       " 'S11',\n",
       " 'K12',\n",
       " 'KA12',\n",
       " 'M12',\n",
       " 'S12',\n",
       " 'K13',\n",
       " 'KA13',\n",
       " 'M13',\n",
       " 'S13']"
      ]
     },
     "execution_count": 7,
     "metadata": {},
     "output_type": "execute_result"
    }
   ],
   "source": [
    "deste"
   ]
  },
  {
   "cell_type": "code",
   "execution_count": 8,
   "metadata": {},
   "outputs": [],
   "source": [
    "çiftdeste = deste*2"
   ]
  },
  {
   "cell_type": "code",
   "execution_count": 9,
   "metadata": {},
   "outputs": [
    {
     "data": {
      "text/plain": [
       "104"
      ]
     },
     "execution_count": 9,
     "metadata": {},
     "output_type": "execute_result"
    }
   ],
   "source": [
    "len(çiftdeste)"
   ]
  },
  {
   "cell_type": "code",
   "execution_count": 10,
   "metadata": {},
   "outputs": [],
   "source": [
    "#Desteyi karıştırmamız gerek.\n"
   ]
  },
  {
   "cell_type": "code",
   "execution_count": null,
   "metadata": {},
   "outputs": [],
   "source": []
  }
 ],
 "metadata": {
  "kernelspec": {
   "display_name": "Python 3",
   "language": "python",
   "name": "python3"
  },
  "language_info": {
   "codemirror_mode": {
    "name": "ipython",
    "version": 3
   },
   "file_extension": ".py",
   "mimetype": "text/x-python",
   "name": "python",
   "nbconvert_exporter": "python",
   "pygments_lexer": "ipython3",
   "version": "3.7.3"
  }
 },
 "nbformat": 4,
 "nbformat_minor": 2
}
